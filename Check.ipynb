{
 "cells": [
  {
   "cell_type": "code",
   "execution_count": 8,
   "metadata": {},
   "outputs": [
    {
     "name": "stdout",
     "output_type": "stream",
     "text": [
      "The autoreload extension is already loaded. To reload it, use:\n",
      "  %reload_ext autoreload\n"
     ]
    }
   ],
   "source": [
    "%matplotlib nbagg\n",
    "%load_ext autoreload\n",
    "%autoreload 2"
   ]
  },
  {
   "cell_type": "code",
   "execution_count": 9,
   "metadata": {},
   "outputs": [
    {
     "name": "stdout",
     "output_type": "stream",
     "text": [
      "GrDe     -- Samples 17, Coherence  0.7841409436144405,  Welch Bound 0.23000908795119507, and Legendre Bound 0.5894621811533247\n",
      "ADAM     -- Samples 17, Coherence  0.7841409436144405,  Welch Bound 0.23000908795119507, and Legendre Bound 0.5894621811533247\n",
      "AdaDelta -- Samples 17, Coherence  0.7841409436144405,  Welch Bound 0.23000908795119507, and Legendre Bound 0.5894621811533247\n",
      "AdaGrad  -- Samples 17, Coherence  0.7841409436144405,  Welch Bound 0.23000908795119507, and Legendre Bound 0.5894621811533247\n",
      "GrDe     -- Samples 25, Coherence  0.7802880177555755,  Welch Bound 0.18428853505018536, and Legendre Bound 0.45314919838138296\n",
      "ADAM     -- Samples 25, Coherence  0.7802880177555755,  Welch Bound 0.18428853505018536, and Legendre Bound 0.45314919838138296\n",
      "AdaDelta -- Samples 25, Coherence  0.7802880177555755,  Welch Bound 0.18428853505018536, and Legendre Bound 0.45314919838138296\n",
      "AdaGrad  -- Samples 25, Coherence  0.7802880177555755,  Welch Bound 0.18428853505018536, and Legendre Bound 0.45314919838138296\n",
      "GrDe     -- Samples 33, Coherence  0.6142179459481718,  Welch Bound 0.15557733518470854, and Legendre Bound 0.36313004661322684\n",
      "ADAM     -- Samples 33, Coherence  0.6142179459481718,  Welch Bound 0.15557733518470854, and Legendre Bound 0.36313004661322684\n",
      "AdaDelta -- Samples 33, Coherence  0.6142179459481718,  Welch Bound 0.15557733518470854, and Legendre Bound 0.36313004661322684\n",
      "AdaGrad  -- Samples 33, Coherence  0.6142179459481718,  Welch Bound 0.15557733518470854, and Legendre Bound 0.36313004661322684\n"
     ]
    },
    {
     "ename": "KeyboardInterrupt",
     "evalue": "",
     "output_type": "error",
     "traceback": [
      "\u001b[0;31m----------------------------------------------------------------------\u001b[0m",
      "\u001b[0;31mKeyboardInterrupt\u001b[0m                    Traceback (most recent call last)",
      "\u001b[0;32m<ipython-input-9-097c9df721c0>\u001b[0m in \u001b[0;36m<module>\u001b[0;34m\u001b[0m\n\u001b[1;32m     58\u001b[0m                     angles = angles)\n\u001b[1;32m     59\u001b[0m     \u001b[0;31m## Gradient\u001b[0m\u001b[0;34m\u001b[0m\u001b[0;34m\u001b[0m\u001b[0;34m\u001b[0m\u001b[0m\n\u001b[0;32m---> 60\u001b[0;31m     \u001b[0mgr_algo\u001b[0m \u001b[0;34m=\u001b[0m \u001b[0mGradientAlgorithms\u001b[0m\u001b[0;34m(\u001b[0m\u001b[0mmatrix\u001b[0m\u001b[0;34m,\u001b[0m \u001b[0meps\u001b[0m\u001b[0;34m,\u001b[0m \u001b[0mmax_iter\u001b[0m\u001b[0;34m)\u001b[0m\u001b[0;34m\u001b[0m\u001b[0;34m\u001b[0m\u001b[0m\n\u001b[0m\u001b[1;32m     61\u001b[0m \u001b[0;34m\u001b[0m\u001b[0m\n\u001b[1;32m     62\u001b[0m     \u001b[0;31m## Generate bound\u001b[0m\u001b[0;34m\u001b[0m\u001b[0;34m\u001b[0m\u001b[0;34m\u001b[0m\u001b[0m\n",
      "\u001b[0;32m~/Documents/GIT/boundwigner/grad_algorithms.py\u001b[0m in \u001b[0;36m__init__\u001b[0;34m(self, matrix, eps, max_iter)\u001b[0m\n\u001b[1;32m     24\u001b[0m         \u001b[0mself\u001b[0m\u001b[0;34m.\u001b[0m\u001b[0mgraddescent\u001b[0m\u001b[0;34m(\u001b[0m\u001b[0;34m)\u001b[0m\u001b[0;34m\u001b[0m\u001b[0;34m\u001b[0m\u001b[0m\n\u001b[1;32m     25\u001b[0m         \u001b[0mself\u001b[0m\u001b[0;34m.\u001b[0m\u001b[0madam\u001b[0m\u001b[0;34m(\u001b[0m\u001b[0;34m)\u001b[0m\u001b[0;34m\u001b[0m\u001b[0;34m\u001b[0m\u001b[0m\n\u001b[0;32m---> 26\u001b[0;31m         \u001b[0mself\u001b[0m\u001b[0;34m.\u001b[0m\u001b[0madadelta\u001b[0m\u001b[0;34m(\u001b[0m\u001b[0;34m)\u001b[0m\u001b[0;34m\u001b[0m\u001b[0;34m\u001b[0m\u001b[0m\n\u001b[0m\u001b[1;32m     27\u001b[0m         \u001b[0mself\u001b[0m\u001b[0;34m.\u001b[0m\u001b[0madagrad\u001b[0m\u001b[0;34m(\u001b[0m\u001b[0;34m)\u001b[0m\u001b[0;34m\u001b[0m\u001b[0;34m\u001b[0m\u001b[0m\n\u001b[1;32m     28\u001b[0m \u001b[0;34m\u001b[0m\u001b[0m\n",
      "\u001b[0;32m~/Documents/GIT/boundwigner/grad_algorithms.py\u001b[0m in \u001b[0;36madadelta\u001b[0;34m(self)\u001b[0m\n\u001b[1;32m   1290\u001b[0m                     \u001b[0;31m##### Update Gradient\u001b[0m\u001b[0;34m\u001b[0m\u001b[0;34m\u001b[0m\u001b[0;34m\u001b[0m\u001b[0m\n\u001b[1;32m   1291\u001b[0m \u001b[0;34m\u001b[0m\u001b[0m\n\u001b[0;32m-> 1292\u001b[0;31m                     \u001b[0mgr_phi\u001b[0m \u001b[0;34m=\u001b[0m \u001b[0mGradient\u001b[0m\u001b[0;34m(\u001b[0m\u001b[0mmatrix\u001b[0m \u001b[0;34m=\u001b[0m \u001b[0mmatrix\u001b[0m\u001b[0;34m)\u001b[0m\u001b[0;34m.\u001b[0m\u001b[0mgr_phi\u001b[0m\u001b[0;34m\u001b[0m\u001b[0;34m\u001b[0m\u001b[0m\n\u001b[0m\u001b[1;32m   1293\u001b[0m \u001b[0;34m\u001b[0m\u001b[0m\n\u001b[1;32m   1294\u001b[0m                     \u001b[0;31m### Calculate the coherence and compare with the Legendre bound\u001b[0m\u001b[0;34m\u001b[0m\u001b[0;34m\u001b[0m\u001b[0;34m\u001b[0m\u001b[0m\n",
      "\u001b[0;32m~/Documents/GIT/boundwigner/gradient.py\u001b[0m in \u001b[0;36m__init__\u001b[0;34m(self, matrix)\u001b[0m\n\u001b[1;32m     13\u001b[0m     \u001b[0;32mdef\u001b[0m \u001b[0m__init__\u001b[0m\u001b[0;34m(\u001b[0m\u001b[0mself\u001b[0m\u001b[0;34m,\u001b[0m \u001b[0mmatrix\u001b[0m\u001b[0;34m)\u001b[0m\u001b[0;34m:\u001b[0m\u001b[0;34m\u001b[0m\u001b[0;34m\u001b[0m\u001b[0m\n\u001b[1;32m     14\u001b[0m         \u001b[0mself\u001b[0m\u001b[0;34m.\u001b[0m\u001b[0mmatrix\u001b[0m \u001b[0;34m=\u001b[0m \u001b[0mmatrix\u001b[0m\u001b[0;34m\u001b[0m\u001b[0;34m\u001b[0m\u001b[0m\n\u001b[0;32m---> 15\u001b[0;31m         \u001b[0mself\u001b[0m\u001b[0;34m.\u001b[0m\u001b[0mget_gradient\u001b[0m\u001b[0;34m(\u001b[0m\u001b[0;34m)\u001b[0m\u001b[0;34m\u001b[0m\u001b[0;34m\u001b[0m\u001b[0m\n\u001b[0m\u001b[1;32m     16\u001b[0m \u001b[0;34m\u001b[0m\u001b[0m\n\u001b[1;32m     17\u001b[0m     \u001b[0;32mdef\u001b[0m \u001b[0mget_gradient\u001b[0m\u001b[0;34m(\u001b[0m\u001b[0mself\u001b[0m\u001b[0;34m)\u001b[0m\u001b[0;34m:\u001b[0m\u001b[0;34m\u001b[0m\u001b[0;34m\u001b[0m\u001b[0m\n",
      "\u001b[0;32m~/Documents/GIT/boundwigner/gradient.py\u001b[0m in \u001b[0;36mget_gradient\u001b[0;34m(self)\u001b[0m\n\u001b[1;32m     26\u001b[0m \u001b[0;34m\u001b[0m\u001b[0m\n\u001b[1;32m     27\u001b[0m         \u001b[0;32melse\u001b[0m\u001b[0;34m:\u001b[0m\u001b[0;34m\u001b[0m\u001b[0;34m\u001b[0m\u001b[0m\n\u001b[0;32m---> 28\u001b[0;31m             \u001b[0mself\u001b[0m\u001b[0;34m.\u001b[0m\u001b[0mgrad_wigner_snf\u001b[0m\u001b[0;34m(\u001b[0m\u001b[0;34m)\u001b[0m\u001b[0;34m\u001b[0m\u001b[0;34m\u001b[0m\u001b[0m\n\u001b[0m\u001b[1;32m     29\u001b[0m \u001b[0;34m\u001b[0m\u001b[0m\n\u001b[1;32m     30\u001b[0m \u001b[0;34m\u001b[0m\u001b[0m\n",
      "\u001b[0;32m~/Documents/GIT/boundwigner/gradient.py\u001b[0m in \u001b[0;36mgrad_wigner_snf\u001b[0;34m(self)\u001b[0m\n\u001b[1;32m    550\u001b[0m             \u001b[0;31m## Real\u001b[0m\u001b[0;34m\u001b[0m\u001b[0;34m\u001b[0m\u001b[0;34m\u001b[0m\u001b[0m\n\u001b[1;32m    551\u001b[0m             case1_real = (c1[:,idx_12]*d1[:,idx_12] + c1[:,idx_12]*d4[:,idx_12] +\n\u001b[0;32m--> 552\u001b[0;31m                           c2[:,idx_12]*d2[:,idx_12] + c3[:,idx_12]*d3[:,idx_12])\n\u001b[0m\u001b[1;32m    553\u001b[0m \u001b[0;34m\u001b[0m\u001b[0m\n\u001b[1;32m    554\u001b[0m \u001b[0;34m\u001b[0m\u001b[0m\n",
      "\u001b[0;31mKeyboardInterrupt\u001b[0m: "
     ]
    }
   ],
   "source": [
    "#########################################################################\n",
    "### This file is used to generate Figure 4 in the paper\n",
    "###\n",
    "### Tight bounds on the mutual coherence of sensing matrices\n",
    "### for Wigner D-functions on regular grid - Arya Bangun, Arash Behboodi\n",
    "### and Rudolf Mathar \n",
    "###\n",
    "### Created by Arya Bangun\n",
    "#########################################################################\n",
    "import matplotlib.pyplot as plt\n",
    "import numpy as np\n",
    "from grad_algorithms import GradientAlgorithms\n",
    "from metric import BoundCoherence\n",
    "from matrix import Matrix\n",
    "\n",
    "types = ['snf','partial']\n",
    "if types[0] == 'SH':\n",
    "    B = 10\n",
    "    N = B**2\n",
    "elif types[0] == 'Wigner':\n",
    "\n",
    "    B = 4 # Bandwidth of the spherical harmonics\n",
    "    N = B*(2*B-1)*(2*B+1)//3 # Dimension of spherical harmonics sensing matrix\n",
    "else:\n",
    "    B = 8 \n",
    "    N = 2*B**2 + 4*B\n",
    "m = np.arange(17,N,8).astype(np.int64) # Samples\n",
    "\n",
    " \n",
    "\n",
    "## Preallocation\n",
    "graddes = np.zeros(len(m), dtype = np.float64);\n",
    "adam = np.copy(graddes)\n",
    "adadelta = np.copy(graddes)\n",
    "adagrad = np.copy(graddes)\n",
    "legbound = np.copy(graddes)\n",
    "welchbound = np.copy(graddes)\n",
    "eps = 1e-4\n",
    "max_iter = 20\n",
    "\n",
    "for ii in range(len(m)):\n",
    "    \n",
    "    ## Generate samples\n",
    "    angles = np.zeros((m[ii],3), dtype = np.float64)\n",
    "    if types[1] == 'all':\n",
    "        \n",
    "        angles[:,0] = np.random.rand(m[ii])*np.pi\n",
    "        angles[:,1] = np.random.rand(m[ii])*2*np.pi\n",
    "        angles[:,2] = np.random.rand(m[ii])*2*np.pi\n",
    "    else:\n",
    "        angles[:,0] = np.arccos(np.linspace(-1,1,m[ii]))\n",
    "        angles[:,1] = np.random.rand(m[ii])*2*np.pi\n",
    "        angles[:,2] = np.random.rand(m[ii])*2*np.pi\n",
    "    \n",
    "    ## Generate Matrix\n",
    "    matrix = Matrix(B = B,\n",
    "                    types = types,\n",
    "                    angles = angles)\n",
    "    ## Gradient\n",
    "    gr_algo = GradientAlgorithms(matrix, eps, max_iter)\n",
    "    \n",
    "    ## Generate bound\n",
    "    Bound = BoundCoherence(m[ii],N,B) # Generate the Bound in the main theorem\n",
    "    \n",
    "    ## Calculate gradient\n",
    "    ang_all_graddes = gr_algo.graddes_coh # use simple gradient descent\n",
    "    print(\"GrDe     -- Samples %s, Coherence  %s,  Welch Bound %s, and Legendre Bound %s\" %(m[ii],ang_all_graddes,Bound[0], Bound[1])) \n",
    "    ang_all_adam = gr_algo.adam_coh # use adam \n",
    "    print(\"ADAM     -- Samples %s, Coherence  %s,  Welch Bound %s, and Legendre Bound %s\" %(m[ii],ang_all_adam,Bound[0], Bound[1]))\n",
    "    ang_all_adadelta = gr_algo.adadelta_coh # use adadelta\n",
    "    print(\"AdaDelta -- Samples %s, Coherence  %s,  Welch Bound %s, and Legendre Bound %s\" %(m[ii],ang_all_adadelta,Bound[0], Bound[1]))   \n",
    "    ang_all_adagrad = gr_algo.adagrad_coh # use adagrad\n",
    "    print(\"AdaGrad  -- Samples %s, Coherence  %s,  Welch Bound %s, and Legendre Bound %s\" %(m[ii],ang_all_adagrad,Bound[0], Bound[1]))\n",
    "                    \n",
    "\n",
    "    ### File\n",
    "    graddes[ii] = ang_all_graddes\n",
    "    adam[ii] = ang_all_adam\n",
    "    adadelta[ii] = ang_all_adadelta\n",
    "    adagrad[ii] = ang_all_adagrad\n",
    "    legbound[ii] = Bound[1]\n",
    "    welchbound[ii] = Bound[0]\n",
    "\n"
   ]
  },
  {
   "cell_type": "code",
   "execution_count": null,
   "metadata": {},
   "outputs": [],
   "source": [
    "\n",
    "\n",
    "plt.figure(1)\n",
    "plt.plot(m,graddes, color = 'r', marker = 'o', linestyle = '--',linewidth = 2, label = 'Gradient Descent in Algorithm ')\n",
    "#plt.hold(True)\n",
    "plt.grid(True)\n",
    "plt.plot(m,adadelta, color = 'k', marker = 'x', linewidth = 2, linestyle = '--', label = 'Ada Delta')\n",
    "plt.plot(m,adagrad, color = 'c', marker = 's', linestyle = '--', linewidth = 2, label = 'Ada Grad')\n",
    "plt.plot(m,adam, color = 'g', marker = '*', linewidth = 2, linestyle = '--', label = 'Adam')\n",
    "plt.plot(m,legbound, color = 'b', marker = 's', linewidth = 2, linestyle = '--', label = 'Bound in Theorem 1')\n",
    "plt.plot(m,welchbound, color = 'tab:brown', marker = '^', linewidth = 2, linestyle = '--', label = 'Welchbound ')\n",
    "plt.xlim(m[0],m[len(m)-1])\n",
    "plt.ylim(0,1)\n",
    "plt.legend()\n",
    "plt.xlabel('Samples (m)')\n",
    "plt.ylabel('Coherence')\n",
    "plt.show()\n",
    "\n"
   ]
  },
  {
   "cell_type": "code",
   "execution_count": null,
   "metadata": {},
   "outputs": [],
   "source": []
  },
  {
   "cell_type": "code",
   "execution_count": 6,
   "metadata": {},
   "outputs": [
    {
     "data": {
      "text/plain": [
       "(33, 160)"
      ]
     },
     "execution_count": 6,
     "metadata": {},
     "output_type": "execute_result"
    }
   ],
   "source": [
    "matrix.A.shape"
   ]
  },
  {
   "cell_type": "code",
   "execution_count": 7,
   "metadata": {},
   "outputs": [
    {
     "data": {
      "text/plain": [
       "160"
      ]
     },
     "execution_count": 7,
     "metadata": {},
     "output_type": "execute_result"
    }
   ],
   "source": [
    "N"
   ]
  },
  {
   "cell_type": "code",
   "execution_count": null,
   "metadata": {},
   "outputs": [],
   "source": []
  }
 ],
 "metadata": {
  "kernelspec": {
   "display_name": "Python (libertem)",
   "language": "python",
   "name": "libertem"
  },
  "language_info": {
   "codemirror_mode": {
    "name": "ipython",
    "version": 3
   },
   "file_extension": ".py",
   "mimetype": "text/x-python",
   "name": "python",
   "nbconvert_exporter": "python",
   "pygments_lexer": "ipython3",
   "version": "3.8.5"
  }
 },
 "nbformat": 4,
 "nbformat_minor": 4
}
