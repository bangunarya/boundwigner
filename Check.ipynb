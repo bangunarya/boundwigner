{
 "cells": [
  {
   "cell_type": "code",
   "execution_count": 1,
   "metadata": {},
   "outputs": [],
   "source": [
    "%matplotlib nbagg\n",
    "%load_ext autoreload\n",
    "%autoreload 2"
   ]
  },
  {
   "cell_type": "code",
   "execution_count": 2,
   "metadata": {},
   "outputs": [],
   "source": [
    "#########################################################################\n",
    "### This file is used to generate Figure 4 in the paper\n",
    "###\n",
    "### Tight bounds on the mutual coherence of sensing matrices\n",
    "### for Wigner D-functions on regular grid - Arya Bangun, Arash Behboodi\n",
    "### and Rudolf Mathar \n",
    "###\n",
    "### Created by Arya Bangun\n",
    "#########################################################################\n",
    "import matplotlib.pyplot as plt\n",
    "import numpy as np\n",
    "from grad_algorithms import GradientAlgorithms\n",
    "from metric import BoundCoherence, params\n",
    "from matrix import Matrix\n",
    "from samplingsphere import SamplingPoints\n",
    "types = ['snf','all']\n",
    "sampling = ['snf', None]\n",
    "\n",
    "B = 16\n",
    "N, col_comb = params(types, B)\n",
    "m = np.arange(17,N,8).astype(np.int64) # Samples\n",
    "\n",
    "\n",
    "\n",
    "## Preallocation\n",
    "graddes = np.zeros(len(m), dtype = np.float64);\n",
    "adam = np.copy(graddes)\n",
    "adadelta = np.copy(graddes)\n",
    "adagrad = np.copy(graddes)\n",
    "legbound = np.copy(graddes)\n",
    "welchbound = np.copy(graddes)\n",
    "eps = 1e-4\n",
    "max_iter = 100\n",
    "\n"
   ]
  },
  {
   "cell_type": "code",
   "execution_count": 3,
   "metadata": {},
   "outputs": [
    {
     "ename": "KeyboardInterrupt",
     "evalue": "",
     "output_type": "error",
     "traceback": [
      "\u001b[0;31m---------------------------------------------------------------------------\u001b[0m",
      "\u001b[0;31mKeyboardInterrupt\u001b[0m                         Traceback (most recent call last)",
      "\u001b[0;32m<ipython-input-3-6efefc20b780>\u001b[0m in \u001b[0;36m<module>\u001b[0;34m\u001b[0m\n\u001b[1;32m      9\u001b[0m                     angles = angles)\n\u001b[1;32m     10\u001b[0m     \u001b[0;31m## Gradient\u001b[0m\u001b[0;34m\u001b[0m\u001b[0;34m\u001b[0m\u001b[0;34m\u001b[0m\u001b[0m\n\u001b[0;32m---> 11\u001b[0;31m     gr_algo = GradientAlgorithms(matrix = matrix, eps = eps,\n\u001b[0m\u001b[1;32m     12\u001b[0m                                  max_iter = max_iter, col_comb = col_comb)\n\u001b[1;32m     13\u001b[0m \u001b[0;34m\u001b[0m\u001b[0m\n",
      "\u001b[0;32m~/Documents/GIT/boundwigner/grad_algorithms.py\u001b[0m in \u001b[0;36m__init__\u001b[0;34m(self, matrix, eps, max_iter, col_comb)\u001b[0m\n\u001b[1;32m     23\u001b[0m         \u001b[0mself\u001b[0m\u001b[0;34m.\u001b[0m\u001b[0mmax_iter\u001b[0m \u001b[0;34m=\u001b[0m \u001b[0mmax_iter\u001b[0m \u001b[0;31m## Maximum iteration\u001b[0m\u001b[0;34m\u001b[0m\u001b[0;34m\u001b[0m\u001b[0m\n\u001b[1;32m     24\u001b[0m \u001b[0;34m\u001b[0m\u001b[0m\n\u001b[0;32m---> 25\u001b[0;31m         \u001b[0mself\u001b[0m\u001b[0;34m.\u001b[0m\u001b[0mgraddescent\u001b[0m\u001b[0;34m(\u001b[0m\u001b[0;34m)\u001b[0m\u001b[0;34m\u001b[0m\u001b[0;34m\u001b[0m\u001b[0m\n\u001b[0m\u001b[1;32m     26\u001b[0m         \u001b[0mself\u001b[0m\u001b[0;34m.\u001b[0m\u001b[0madam\u001b[0m\u001b[0;34m(\u001b[0m\u001b[0;34m)\u001b[0m\u001b[0;34m\u001b[0m\u001b[0;34m\u001b[0m\u001b[0m\n\u001b[1;32m     27\u001b[0m         \u001b[0mself\u001b[0m\u001b[0;34m.\u001b[0m\u001b[0madadelta\u001b[0m\u001b[0;34m(\u001b[0m\u001b[0;34m)\u001b[0m\u001b[0;34m\u001b[0m\u001b[0;34m\u001b[0m\u001b[0m\n",
      "\u001b[0;32m~/Documents/GIT/boundwigner/grad_algorithms.py\u001b[0m in \u001b[0;36mgraddescent\u001b[0;34m(self)\u001b[0m\n\u001b[1;32m    355\u001b[0m \u001b[0;34m\u001b[0m\u001b[0m\n\u001b[1;32m    356\u001b[0m                     \u001b[0;31m##### Update Gradient\u001b[0m\u001b[0;34m\u001b[0m\u001b[0;34m\u001b[0m\u001b[0;34m\u001b[0m\u001b[0m\n\u001b[0;32m--> 357\u001b[0;31m                     \u001b[0mgr_theta\u001b[0m \u001b[0;34m=\u001b[0m \u001b[0mGradient\u001b[0m\u001b[0;34m(\u001b[0m\u001b[0mmatrix\u001b[0m \u001b[0;34m=\u001b[0m \u001b[0mmatrix\u001b[0m\u001b[0;34m,\u001b[0m \u001b[0mcol_comb\u001b[0m \u001b[0;34m=\u001b[0m \u001b[0mself\u001b[0m\u001b[0;34m.\u001b[0m\u001b[0mcol_comb\u001b[0m\u001b[0;34m)\u001b[0m\u001b[0;34m.\u001b[0m\u001b[0mgr_theta\u001b[0m\u001b[0;34m\u001b[0m\u001b[0;34m\u001b[0m\u001b[0m\n\u001b[0m\u001b[1;32m    358\u001b[0m                     \u001b[0mgr_phi\u001b[0m \u001b[0;34m=\u001b[0m \u001b[0mGradient\u001b[0m\u001b[0;34m(\u001b[0m\u001b[0mmatrix\u001b[0m \u001b[0;34m=\u001b[0m \u001b[0mmatrix\u001b[0m\u001b[0;34m,\u001b[0m \u001b[0mcol_comb\u001b[0m \u001b[0;34m=\u001b[0m \u001b[0mself\u001b[0m\u001b[0;34m.\u001b[0m\u001b[0mcol_comb\u001b[0m\u001b[0;34m)\u001b[0m\u001b[0;34m.\u001b[0m\u001b[0mgr_phi\u001b[0m\u001b[0;34m\u001b[0m\u001b[0;34m\u001b[0m\u001b[0m\n\u001b[1;32m    359\u001b[0m \u001b[0;34m\u001b[0m\u001b[0m\n",
      "\u001b[0;32m~/Documents/GIT/boundwigner/gradient.py\u001b[0m in \u001b[0;36m__init__\u001b[0;34m(self, matrix, col_comb)\u001b[0m\n\u001b[1;32m     14\u001b[0m         \u001b[0mself\u001b[0m\u001b[0;34m.\u001b[0m\u001b[0mmatrix\u001b[0m \u001b[0;34m=\u001b[0m \u001b[0mmatrix\u001b[0m\u001b[0;34m\u001b[0m\u001b[0;34m\u001b[0m\u001b[0m\n\u001b[1;32m     15\u001b[0m         \u001b[0mself\u001b[0m\u001b[0;34m.\u001b[0m\u001b[0mcol_comb\u001b[0m \u001b[0;34m=\u001b[0m \u001b[0mcol_comb\u001b[0m\u001b[0;34m\u001b[0m\u001b[0;34m\u001b[0m\u001b[0m\n\u001b[0;32m---> 16\u001b[0;31m         \u001b[0mself\u001b[0m\u001b[0;34m.\u001b[0m\u001b[0mget_gradient\u001b[0m\u001b[0;34m(\u001b[0m\u001b[0;34m)\u001b[0m\u001b[0;34m\u001b[0m\u001b[0;34m\u001b[0m\u001b[0m\n\u001b[0m\u001b[1;32m     17\u001b[0m \u001b[0;34m\u001b[0m\u001b[0m\n\u001b[1;32m     18\u001b[0m     \u001b[0;32mdef\u001b[0m \u001b[0mget_gradient\u001b[0m\u001b[0;34m(\u001b[0m\u001b[0mself\u001b[0m\u001b[0;34m)\u001b[0m\u001b[0;34m:\u001b[0m\u001b[0;34m\u001b[0m\u001b[0;34m\u001b[0m\u001b[0m\n",
      "\u001b[0;32m~/Documents/GIT/boundwigner/gradient.py\u001b[0m in \u001b[0;36mget_gradient\u001b[0;34m(self)\u001b[0m\n\u001b[1;32m     27\u001b[0m \u001b[0;34m\u001b[0m\u001b[0m\n\u001b[1;32m     28\u001b[0m         \u001b[0;32melse\u001b[0m\u001b[0;34m:\u001b[0m\u001b[0;34m\u001b[0m\u001b[0;34m\u001b[0m\u001b[0m\n\u001b[0;32m---> 29\u001b[0;31m             \u001b[0mself\u001b[0m\u001b[0;34m.\u001b[0m\u001b[0mgrad_wigner_snf\u001b[0m\u001b[0;34m(\u001b[0m\u001b[0;34m)\u001b[0m\u001b[0;34m\u001b[0m\u001b[0;34m\u001b[0m\u001b[0m\n\u001b[0m\u001b[1;32m     30\u001b[0m \u001b[0;34m\u001b[0m\u001b[0m\n\u001b[1;32m     31\u001b[0m \u001b[0;34m\u001b[0m\u001b[0m\n",
      "\u001b[0;32m~/Documents/GIT/boundwigner/gradient.py\u001b[0m in \u001b[0;36mgrad_wigner_snf\u001b[0;34m(self)\u001b[0m\n\u001b[1;32m    383\u001b[0m \u001b[0;34m\u001b[0m\u001b[0m\n\u001b[1;32m    384\u001b[0m             \u001b[0;31m## Deriv Real w.r.t phi\u001b[0m\u001b[0;34m\u001b[0m\u001b[0;34m\u001b[0m\u001b[0;34m\u001b[0m\u001b[0m\n\u001b[0;32m--> 385\u001b[0;31m             \u001b[0md_case3_real_phi\u001b[0m \u001b[0;34m=\u001b[0m \u001b[0md_c1\u001b[0m\u001b[0;34m*\u001b[0m\u001b[0md1\u001b[0m \u001b[0;34m-\u001b[0m \u001b[0md_c1\u001b[0m\u001b[0;34m*\u001b[0m\u001b[0md4\u001b[0m \u001b[0;34m-\u001b[0m \u001b[0md_c2\u001b[0m\u001b[0;34m*\u001b[0m\u001b[0md2\u001b[0m \u001b[0;34m+\u001b[0m \u001b[0md_c3\u001b[0m\u001b[0;34m*\u001b[0m\u001b[0md3\u001b[0m\u001b[0;34m\u001b[0m\u001b[0;34m\u001b[0m\u001b[0m\n\u001b[0m\u001b[1;32m    386\u001b[0m \u001b[0;34m\u001b[0m\u001b[0m\n\u001b[1;32m    387\u001b[0m             \u001b[0;31m## Imag\u001b[0m\u001b[0;34m\u001b[0m\u001b[0;34m\u001b[0m\u001b[0;34m\u001b[0m\u001b[0m\n",
      "\u001b[0;31mKeyboardInterrupt\u001b[0m: "
     ]
    }
   ],
   "source": [
    "for ii in range(len(m)):\n",
    "    \n",
    "    ## Generate samples\n",
    "    angles = SamplingPoints(m = m[ii],types = sampling).angles\n",
    "    \n",
    "    ## Generate Matrix\n",
    "    matrix = Matrix(B = B,\n",
    "                    types = types,\n",
    "                    angles = angles)\n",
    "    ## Gradient\n",
    "    gr_algo = GradientAlgorithms(matrix = matrix, eps = eps,\n",
    "                                 max_iter = max_iter, col_comb = col_comb)\n",
    "    \n",
    "    ## Generate bound\n",
    "    Bound = BoundCoherence(m[ii],N,B) # Generate the Bound in the main theorem\n",
    "    \n",
    "    ## Calculate gradient\n",
    "    ang_all_graddes = gr_algo.graddes_coh # use simple gradient descent\n",
    "    print(\"GrDe     -- Samples %s, Coherence  %s,  Welch Bound %s, and Legendre Bound %s\" %(m[ii],ang_all_graddes,Bound[0], Bound[1])) \n",
    "    ang_all_adam = gr_algo.adam_coh # use adam \n",
    "    print(\"ADAM     -- Samples %s, Coherence  %s,  Welch Bound %s, and Legendre Bound %s\" %(m[ii],ang_all_adam,Bound[0], Bound[1]))\n",
    "    ang_all_adadelta = gr_algo.adadelta_coh # use adadelta\n",
    "    print(\"AdaDelta -- Samples %s, Coherence  %s,  Welch Bound %s, and Legendre Bound %s\" %(m[ii],ang_all_adadelta,Bound[0], Bound[1]))   \n",
    "    ang_all_adagrad = gr_algo.adagrad_coh # use adagrad\n",
    "    print(\"AdaGrad  -- Samples %s, Coherence  %s,  Welch Bound %s, and Legendre Bound %s\" %(m[ii],ang_all_adagrad,Bound[0], Bound[1]))\n",
    "                    \n",
    "\n",
    "    ### File\n",
    "    graddes[ii] = ang_all_graddes\n",
    "    adam[ii] = ang_all_adam\n",
    "    adadelta[ii] = ang_all_adadelta\n",
    "    adagrad[ii] = ang_all_adagrad\n",
    "    legbound[ii] = Bound[1]\n",
    "    welchbound[ii] = Bound[0]\n",
    "\n"
   ]
  },
  {
   "cell_type": "code",
   "execution_count": null,
   "metadata": {},
   "outputs": [],
   "source": [
    "\n",
    "\n",
    "plt.figure(1)\n",
    "plt.plot(m,graddes, color = 'r', marker = 'o', linestyle = '--',linewidth = 2, label = 'Gradient Descent in Algorithm ')\n",
    "#plt.hold(True)\n",
    "plt.grid(True)\n",
    "plt.plot(m,adadelta, color = 'k', marker = 'x', linewidth = 2, linestyle = '--', label = 'Ada Delta')\n",
    "plt.plot(m,adagrad, color = 'c', marker = 's', linestyle = '--', linewidth = 2, label = 'Ada Grad')\n",
    "plt.plot(m,adam, color = 'g', marker = '*', linewidth = 2, linestyle = '--', label = 'Adam')\n",
    "plt.plot(m,legbound, color = 'b', marker = 's', linewidth = 2, linestyle = '--', label = 'Bound in Theorem 1')\n",
    "plt.plot(m,welchbound, color = 'tab:brown', marker = '^', linewidth = 2, linestyle = '--', label = 'Welchbound ')\n",
    "plt.xlim(m[0],m[len(m)-1])\n",
    "plt.ylim(0,1)\n",
    "plt.legend()\n",
    "plt.xlabel('Samples (m)')\n",
    "plt.ylabel('Coherence')\n",
    "plt.show()\n",
    "\n"
   ]
  },
  {
   "cell_type": "code",
   "execution_count": null,
   "metadata": {},
   "outputs": [],
   "source": []
  }
 ],
 "metadata": {
  "kernelspec": {
   "display_name": "Python (libertem)",
   "language": "python",
   "name": "libertem"
  },
  "language_info": {
   "codemirror_mode": {
    "name": "ipython",
    "version": 3
   },
   "file_extension": ".py",
   "mimetype": "text/x-python",
   "name": "python",
   "nbconvert_exporter": "python",
   "pygments_lexer": "ipython3",
   "version": "3.8.5"
  }
 },
 "nbformat": 4,
 "nbformat_minor": 4
}
